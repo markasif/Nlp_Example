{
 "cells": [
  {
   "cell_type": "code",
   "execution_count": 21,
   "id": "b6b4ff9c-ee10-4f54-b636-d7ae36e17608",
   "metadata": {},
   "outputs": [],
   "source": [
    "import nltk"
   ]
  },
  {
   "cell_type": "code",
   "execution_count": 22,
   "id": "0ddfe95c-ffe0-4f40-9a7d-d12461f6fdfc",
   "metadata": {},
   "outputs": [],
   "source": [
    "words = [\"eating\",\"eat\",\"eaten\",\"writing\",\"writes\",\"programming\",\"program\",\"going\",\"go\",\"goes\",\"Asif\",\"world\",\"history\",\"story\"]"
   ]
  },
  {
   "cell_type": "markdown",
   "id": "0aa8c889-eb05-4bc8-b523-750332a613da",
   "metadata": {},
   "source": [
    "## PostStemmer "
   ]
  },
  {
   "cell_type": "code",
   "execution_count": 23,
   "id": "458ec1da-e0c2-48d4-8831-5bd92594c140",
   "metadata": {},
   "outputs": [],
   "source": [
    "from nltk.stem import PorterStemmer"
   ]
  },
  {
   "cell_type": "code",
   "execution_count": 24,
   "id": "7bb65c00-d9f1-4105-80b0-87ee0bf2f5d7",
   "metadata": {},
   "outputs": [],
   "source": [
    "stemm = PorterStemmer()"
   ]
  },
  {
   "cell_type": "code",
   "execution_count": 25,
   "id": "f1f9d7e0-403e-4d70-868b-44dde9401151",
   "metadata": {},
   "outputs": [
    {
     "name": "stdout",
     "output_type": "stream",
     "text": [
      "eating---->eat\n",
      "eat---->eat\n",
      "eaten---->eaten\n",
      "writing---->write\n",
      "writes---->write\n",
      "programming---->program\n",
      "program---->program\n",
      "going---->go\n",
      "go---->go\n",
      "goes---->goe\n",
      "Asif---->asif\n",
      "world---->world\n",
      "history---->histori\n",
      "story---->stori\n"
     ]
    }
   ],
   "source": [
    "for word in words:\n",
    "    print(word+\"---->\"+stemm.stem(word))"
   ]
  },
  {
   "cell_type": "markdown",
   "id": "f44d1292-0a5e-4470-930e-63d4efa7b1d1",
   "metadata": {},
   "source": [
    "## RegexpStemmer"
   ]
  },
  {
   "cell_type": "code",
   "execution_count": 26,
   "id": "730f70b0-b823-4f56-80ad-5d51cb3bc378",
   "metadata": {},
   "outputs": [],
   "source": [
    "from nltk.stem import RegexpStemmer"
   ]
  },
  {
   "cell_type": "code",
   "execution_count": 27,
   "id": "53629950-fc2e-4ced-829c-1ebe2c436631",
   "metadata": {},
   "outputs": [],
   "source": [
    "stemmer = RegexpStemmer('ing$|s$|es$|en$',min=4)"
   ]
  },
  {
   "cell_type": "code",
   "execution_count": 29,
   "id": "8cc2872f-9809-43e9-80f0-4af563e6315d",
   "metadata": {},
   "outputs": [
    {
     "name": "stdout",
     "output_type": "stream",
     "text": [
      "eating---->eat\n",
      "eat---->eat\n",
      "eaten---->eat\n",
      "writing---->writ\n",
      "writes---->writ\n",
      "programming---->programm\n",
      "program---->program\n",
      "going---->go\n",
      "go---->go\n",
      "goes---->go\n",
      "Asif---->Asif\n",
      "world---->world\n",
      "history---->history\n",
      "story---->story\n"
     ]
    }
   ],
   "source": [
    "for word in words:\n",
    "    print(word+\"---->\"+stemmer.stem(word))"
   ]
  },
  {
   "cell_type": "code",
   "execution_count": 30,
   "id": "761e3550-268d-4809-9474-06d27a51b33a",
   "metadata": {},
   "outputs": [
    {
     "data": {
      "text/plain": [
       "'paly'"
      ]
     },
     "execution_count": 30,
     "metadata": {},
     "output_type": "execute_result"
    }
   ],
   "source": [
    "stemmer.stem(\"palyen\")"
   ]
  },
  {
   "cell_type": "markdown",
   "id": "8c78c44a-cc02-4623-a4b0-fa78c567791d",
   "metadata": {},
   "source": [
    "## Snowballstemmer"
   ]
  },
  {
   "cell_type": "code",
   "execution_count": 31,
   "id": "0a6faa29-0a00-4ee7-9951-e1a8c4e64c5d",
   "metadata": {},
   "outputs": [],
   "source": [
    "from nltk.stem import SnowballStemmer"
   ]
  },
  {
   "cell_type": "code",
   "execution_count": 33,
   "id": "278c66ca-9d35-40bd-be1f-260b110a8c12",
   "metadata": {},
   "outputs": [],
   "source": [
    "snow = SnowballStemmer('english')"
   ]
  },
  {
   "cell_type": "code",
   "execution_count": 36,
   "id": "cd69a0d9-0121-4b8e-9cd1-98879bd2b4e4",
   "metadata": {},
   "outputs": [
    {
     "name": "stdout",
     "output_type": "stream",
     "text": [
      "eating---->eat\n",
      "eat---->eat\n",
      "eaten---->eaten\n",
      "writing---->write\n",
      "writes---->write\n",
      "programming---->program\n",
      "program---->program\n",
      "going---->go\n",
      "go---->go\n",
      "goes---->goe\n",
      "Asif---->asif\n",
      "world---->world\n",
      "history---->histori\n",
      "story---->stori\n"
     ]
    }
   ],
   "source": [
    "for word in words:\n",
    "    print(word+\"---->\"+snow.stem(word))"
   ]
  },
  {
   "cell_type": "code",
   "execution_count": 37,
   "id": "5a24e33e-33f7-47a5-a63f-c20dbbd65193",
   "metadata": {},
   "outputs": [
    {
     "data": {
      "text/plain": [
       "('fairli', 'sportingli')"
      ]
     },
     "execution_count": 37,
     "metadata": {},
     "output_type": "execute_result"
    }
   ],
   "source": [
    "## using posterstemm\n",
    "stemm.stem(\"fairly\"),stemm.stem(\"sportingly\")"
   ]
  },
  {
   "cell_type": "code",
   "execution_count": 38,
   "id": "19723fff-c419-4443-a890-e9eb1b30e79a",
   "metadata": {},
   "outputs": [
    {
     "data": {
      "text/plain": [
       "('fair', 'sport')"
      ]
     },
     "execution_count": 38,
     "metadata": {},
     "output_type": "execute_result"
    }
   ],
   "source": [
    "snow.stem(\"fairly\"),snow.stem(\"sportingly\")##snowball has better result"
   ]
  },
  {
   "cell_type": "markdown",
   "id": "1954d321-0735-4f6e-94fe-04f763e9fbd7",
   "metadata": {},
   "source": [
    "## Lemmatizatiom"
   ]
  },
  {
   "cell_type": "code",
   "execution_count": 39,
   "id": "6eed2c32-2b8f-4f5c-8465-dec9bc5bf773",
   "metadata": {},
   "outputs": [],
   "source": [
    "from nltk.stem import WordNetLemmatizer"
   ]
  },
  {
   "cell_type": "code",
   "execution_count": 40,
   "id": "404f3082-8457-4715-ba52-09605c98b280",
   "metadata": {},
   "outputs": [],
   "source": [
    "lemmar = WordNetLemmatizer()"
   ]
  },
  {
   "cell_type": "code",
   "execution_count": 48,
   "id": "97ef2e89-55a9-497a-8114-65138dfc7788",
   "metadata": {},
   "outputs": [
    {
     "name": "stdout",
     "output_type": "stream",
     "text": [
      "eating---->eat\n",
      "eat---->eat\n",
      "eaten---->eat\n",
      "writing---->write\n",
      "writes---->write\n",
      "programming---->program\n",
      "program---->program\n",
      "going---->go\n",
      "go---->go\n",
      "goes---->go\n",
      "Asif---->Asif\n",
      "world---->world\n",
      "history---->history\n",
      "story---->story\n"
     ]
    }
   ],
   "source": [
    "for word in words:\n",
    "    print(word + \"---->\" + lemmar.lemmatize(word,pos='v'))"
   ]
  },
  {
   "cell_type": "code",
   "execution_count": null,
   "id": "c8e4c044-def8-4377-8052-74ba67bd973c",
   "metadata": {},
   "outputs": [],
   "source": []
  },
  {
   "cell_type": "code",
   "execution_count": null,
   "id": "badfa285-4d62-4c93-88ba-4f0f70fb9718",
   "metadata": {},
   "outputs": [],
   "source": []
  }
 ],
 "metadata": {
  "kernelspec": {
   "display_name": "Python 3 (ipykernel)",
   "language": "python",
   "name": "python3"
  },
  "language_info": {
   "codemirror_mode": {
    "name": "ipython",
    "version": 3
   },
   "file_extension": ".py",
   "mimetype": "text/x-python",
   "name": "python",
   "nbconvert_exporter": "python",
   "pygments_lexer": "ipython3",
   "version": "3.11.7"
  }
 },
 "nbformat": 4,
 "nbformat_minor": 5
}
