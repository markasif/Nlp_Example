{
 "cells": [
  {
   "cell_type": "code",
   "execution_count": 1,
   "id": "449062bf-84fb-44d0-a075-206e37dcc4f0",
   "metadata": {},
   "outputs": [
    {
     "name": "stdout",
     "output_type": "stream",
     "text": [
      "Requirement already satisfied: nltk in c:\\users\\apasi\\anaconda3\\lib\\site-packages (3.8.1)\n",
      "Requirement already satisfied: click in c:\\users\\apasi\\anaconda3\\lib\\site-packages (from nltk) (8.1.7)\n",
      "Requirement already satisfied: joblib in c:\\users\\apasi\\anaconda3\\lib\\site-packages (from nltk) (1.2.0)\n",
      "Requirement already satisfied: regex>=2021.8.3 in c:\\users\\apasi\\anaconda3\\lib\\site-packages (from nltk) (2023.10.3)\n",
      "Requirement already satisfied: tqdm in c:\\users\\apasi\\anaconda3\\lib\\site-packages (from nltk) (4.65.0)\n",
      "Requirement already satisfied: colorama in c:\\users\\apasi\\anaconda3\\lib\\site-packages (from click->nltk) (0.4.6)\n"
     ]
    }
   ],
   "source": [
    "!pip install nltk"
   ]
  },
  {
   "cell_type": "code",
   "execution_count": 2,
   "id": "5b71ceb7-7bc8-4a47-9895-c2b467af669a",
   "metadata": {},
   "outputs": [],
   "source": [
    "corpus = \"\"\"In addition to the pre-included corpora, NLTK allows you to create and work with your own custom corpora. \n",
    "This is particularly useful when working with specialized datasets or when conducting domain-specific research.\n",
    "You can utilize NLTK's corpus reader classes to read and process your own text collections.\n",
    "\"\"\""
   ]
  },
  {
   "cell_type": "code",
   "execution_count": 3,
   "id": "64634d0c-50d2-445a-ae60-0102062eae09",
   "metadata": {},
   "outputs": [
    {
     "name": "stdout",
     "output_type": "stream",
     "text": [
      "In addition to the pre-included corpora, NLTK allows you to create and work with your own custom corpora. \n",
      "This is particularly useful when working with specialized datasets or when conducting domain-specific research.\n",
      "You can utilize NLTK's corpus reader classes to read and process your own text collections.\n",
      "\n"
     ]
    }
   ],
   "source": [
    "print(corpus)"
   ]
  },
  {
   "cell_type": "code",
   "execution_count": 4,
   "id": "fe06c7b1-f23e-4bea-bbf8-afe5c5f2fca8",
   "metadata": {},
   "outputs": [],
   "source": [
    "from nltk.tokenize import sent_tokenize"
   ]
  },
  {
   "cell_type": "code",
   "execution_count": 6,
   "id": "9bed409f-e316-41d3-804b-c6f06c2b480a",
   "metadata": {},
   "outputs": [],
   "source": [
    "documents =sent_tokenize(corpus)"
   ]
  },
  {
   "cell_type": "code",
   "execution_count": 7,
   "id": "aa5d2368-1424-4511-b7d1-f0a0663f1ced",
   "metadata": {},
   "outputs": [
    {
     "data": {
      "text/plain": [
       "list"
      ]
     },
     "execution_count": 7,
     "metadata": {},
     "output_type": "execute_result"
    }
   ],
   "source": [
    "type(documents)"
   ]
  },
  {
   "cell_type": "code",
   "execution_count": 8,
   "id": "a56c8db5-b3db-4192-b1c2-c8f87e8f34db",
   "metadata": {},
   "outputs": [
    {
     "name": "stdout",
     "output_type": "stream",
     "text": [
      "In addition to the pre-included corpora, NLTK allows you to create and work with your own custom corpora.\n",
      "This is particularly useful when working with specialized datasets or when conducting domain-specific research.\n",
      "You can utilize NLTK's corpus reader classes to read and process your own text collections.\n"
     ]
    }
   ],
   "source": [
    "for sentence in documents:\n",
    "    print(sentence)"
   ]
  },
  {
   "cell_type": "code",
   "execution_count": 9,
   "id": "08db407b-d810-4b60-a6dc-d70c58c9fb27",
   "metadata": {},
   "outputs": [],
   "source": [
    "from nltk.tokenize import word_tokenize"
   ]
  },
  {
   "cell_type": "code",
   "execution_count": 10,
   "id": "4939cfe9-cc54-4339-b22e-239d7ecbc07f",
   "metadata": {},
   "outputs": [],
   "source": [
    "words=word_tokenize(corpus)"
   ]
  },
  {
   "cell_type": "code",
   "execution_count": 11,
   "id": "1d1d9ba2-f74e-4bf6-9e2b-cbabd3b32c0b",
   "metadata": {},
   "outputs": [
    {
     "data": {
      "text/plain": [
       "['In',\n",
       " 'addition',\n",
       " 'to',\n",
       " 'the',\n",
       " 'pre-included',\n",
       " 'corpora',\n",
       " ',',\n",
       " 'NLTK',\n",
       " 'allows',\n",
       " 'you',\n",
       " 'to',\n",
       " 'create',\n",
       " 'and',\n",
       " 'work',\n",
       " 'with',\n",
       " 'your',\n",
       " 'own',\n",
       " 'custom',\n",
       " 'corpora',\n",
       " '.',\n",
       " 'This',\n",
       " 'is',\n",
       " 'particularly',\n",
       " 'useful',\n",
       " 'when',\n",
       " 'working',\n",
       " 'with',\n",
       " 'specialized',\n",
       " 'datasets',\n",
       " 'or',\n",
       " 'when',\n",
       " 'conducting',\n",
       " 'domain-specific',\n",
       " 'research',\n",
       " '.',\n",
       " 'You',\n",
       " 'can',\n",
       " 'utilize',\n",
       " 'NLTK',\n",
       " \"'s\",\n",
       " 'corpus',\n",
       " 'reader',\n",
       " 'classes',\n",
       " 'to',\n",
       " 'read',\n",
       " 'and',\n",
       " 'process',\n",
       " 'your',\n",
       " 'own',\n",
       " 'text',\n",
       " 'collections',\n",
       " '.']"
      ]
     },
     "execution_count": 11,
     "metadata": {},
     "output_type": "execute_result"
    }
   ],
   "source": [
    "words"
   ]
  },
  {
   "cell_type": "code",
   "execution_count": 17,
   "id": "3334c458-cc3d-41e3-a96f-514e4bfee581",
   "metadata": {},
   "outputs": [
    {
     "name": "stdout",
     "output_type": "stream",
     "text": [
      "['In', 'addition', 'to', 'the', 'pre-included', 'corpora', ',', 'NLTK', 'allows', 'you', 'to', 'create', 'and', 'work', 'with', 'your', 'own', 'custom', 'corpora', '.']\n",
      "['This', 'is', 'particularly', 'useful', 'when', 'working', 'with', 'specialized', 'datasets', 'or', 'when', 'conducting', 'domain-specific', 'research', '.']\n",
      "['You', 'can', 'utilize', 'NLTK', \"'s\", 'corpus', 'reader', 'classes', 'to', 'read', 'and', 'process', 'your', 'own', 'text', 'collections', '.']\n"
     ]
    }
   ],
   "source": [
    "for sentence in documents:\n",
    "                print(word_tokenize(sentence))"
   ]
  },
  {
   "cell_type": "code",
   "execution_count": 14,
   "id": "b8489bbc-ae88-4ab0-9318-b77e391be29a",
   "metadata": {},
   "outputs": [],
   "source": [
    "from nltk.tokenize import wordpunct_tokenize"
   ]
  },
  {
   "cell_type": "code",
   "execution_count": 18,
   "id": "38bdb53e-a7ef-4944-a2e0-3061a07406ce",
   "metadata": {},
   "outputs": [
    {
     "data": {
      "text/plain": [
       "['In',\n",
       " 'addition',\n",
       " 'to',\n",
       " 'the',\n",
       " 'pre',\n",
       " '-',\n",
       " 'included',\n",
       " 'corpora',\n",
       " ',',\n",
       " 'NLTK',\n",
       " 'allows',\n",
       " 'you',\n",
       " 'to',\n",
       " 'create',\n",
       " 'and',\n",
       " 'work',\n",
       " 'with',\n",
       " 'your',\n",
       " 'own',\n",
       " 'custom',\n",
       " 'corpora',\n",
       " '.',\n",
       " 'This',\n",
       " 'is',\n",
       " 'particularly',\n",
       " 'useful',\n",
       " 'when',\n",
       " 'working',\n",
       " 'with',\n",
       " 'specialized',\n",
       " 'datasets',\n",
       " 'or',\n",
       " 'when',\n",
       " 'conducting',\n",
       " 'domain',\n",
       " '-',\n",
       " 'specific',\n",
       " 'research',\n",
       " '.',\n",
       " 'You',\n",
       " 'can',\n",
       " 'utilize',\n",
       " 'NLTK',\n",
       " \"'\",\n",
       " 's',\n",
       " 'corpus',\n",
       " 'reader',\n",
       " 'classes',\n",
       " 'to',\n",
       " 'read',\n",
       " 'and',\n",
       " 'process',\n",
       " 'your',\n",
       " 'own',\n",
       " 'text',\n",
       " 'collections',\n",
       " '.']"
      ]
     },
     "execution_count": 18,
     "metadata": {},
     "output_type": "execute_result"
    }
   ],
   "source": [
    "wordpunct_tokenize(corpus)"
   ]
  },
  {
   "cell_type": "code",
   "execution_count": 22,
   "id": "20a66f31-2b46-41ec-ac8f-eebc4df2e262",
   "metadata": {},
   "outputs": [],
   "source": [
    "from nltk.tokenize import TreebankWordTokenizer##it will not consider pullstop as a word. but last pullstop will separate"
   ]
  },
  {
   "cell_type": "code",
   "execution_count": 20,
   "id": "8bade697-4657-4284-a6b1-51ea4be99ed4",
   "metadata": {},
   "outputs": [],
   "source": [
    "tokenzier = TreebankWordTokenizer()"
   ]
  },
  {
   "cell_type": "code",
   "execution_count": 21,
   "id": "b513a080-550c-474e-82f8-9e9c28e625a4",
   "metadata": {},
   "outputs": [
    {
     "data": {
      "text/plain": [
       "['In',\n",
       " 'addition',\n",
       " 'to',\n",
       " 'the',\n",
       " 'pre-included',\n",
       " 'corpora',\n",
       " ',',\n",
       " 'NLTK',\n",
       " 'allows',\n",
       " 'you',\n",
       " 'to',\n",
       " 'create',\n",
       " 'and',\n",
       " 'work',\n",
       " 'with',\n",
       " 'your',\n",
       " 'own',\n",
       " 'custom',\n",
       " 'corpora.',\n",
       " 'This',\n",
       " 'is',\n",
       " 'particularly',\n",
       " 'useful',\n",
       " 'when',\n",
       " 'working',\n",
       " 'with',\n",
       " 'specialized',\n",
       " 'datasets',\n",
       " 'or',\n",
       " 'when',\n",
       " 'conducting',\n",
       " 'domain-specific',\n",
       " 'research.',\n",
       " 'You',\n",
       " 'can',\n",
       " 'utilize',\n",
       " 'NLTK',\n",
       " \"'s\",\n",
       " 'corpus',\n",
       " 'reader',\n",
       " 'classes',\n",
       " 'to',\n",
       " 'read',\n",
       " 'and',\n",
       " 'process',\n",
       " 'your',\n",
       " 'own',\n",
       " 'text',\n",
       " 'collections',\n",
       " '.']"
      ]
     },
     "execution_count": 21,
     "metadata": {},
     "output_type": "execute_result"
    }
   ],
   "source": [
    "tokenzier.tokenize(corpus)"
   ]
  },
  {
   "cell_type": "code",
   "execution_count": null,
   "id": "2810897f-a340-4633-a74d-125349f705f9",
   "metadata": {},
   "outputs": [],
   "source": []
  }
 ],
 "metadata": {
  "kernelspec": {
   "display_name": "Python 3 (ipykernel)",
   "language": "python",
   "name": "python3"
  },
  "language_info": {
   "codemirror_mode": {
    "name": "ipython",
    "version": 3
   },
   "file_extension": ".py",
   "mimetype": "text/x-python",
   "name": "python",
   "nbconvert_exporter": "python",
   "pygments_lexer": "ipython3",
   "version": "3.11.7"
  }
 },
 "nbformat": 4,
 "nbformat_minor": 5
}
