{
 "cells": [
  {
   "cell_type": "code",
   "execution_count": 37,
   "id": "7bf5239a-c827-4cc1-a799-77d8e6844435",
   "metadata": {},
   "outputs": [],
   "source": [
    "import nltk"
   ]
  },
  {
   "cell_type": "code",
   "execution_count": 38,
   "id": "d36e7d0e-d04e-47a2-b994-cd6dfcf7976a",
   "metadata": {},
   "outputs": [],
   "source": [
    "corpus = \"\"\"\n",
    "“Here is a mantra, a short one, that I give you. You may imprint it on your hearts and let every breath of yours give expression to it. The mantra is: ‘Do or Die.’ We shall either free India or die in the attempt; we shall not live to see the perpetuation of our slavery.\n",
    "\n",
    "Every one of you should consider yourself a free man or woman and act as if you are free. I am not going to tolerate cowardice or weakness. A free India will be no burden on the world. The world has a place for such a country that will be peaceful and work for the good of mankind.\n",
    "\n",
    "Freedom is never given; it is taken. You may have faith in me and in my truth, but even if you lose faith in me, you should not lose faith in the cause. Come what may, we shall continue to fight nonviolently for India’s freedom.\"\n",
    "\"\"\""
   ]
  },
  {
   "cell_type": "code",
   "execution_count": 39,
   "id": "9ada2f92-4992-4ab2-9374-4b98d7f64a19",
   "metadata": {},
   "outputs": [],
   "source": [
    "sentence = nltk.sent_tokenize(corpus)"
   ]
  },
  {
   "cell_type": "code",
   "execution_count": 40,
   "id": "9bd9cc32-baf0-4613-820e-a9180afef62b",
   "metadata": {},
   "outputs": [
    {
     "data": {
      "text/plain": [
       "['\\n“Here is a mantra, a short one, that I give you.',\n",
       " 'You may imprint it on your hearts and let every breath of yours give expression to it.',\n",
       " 'The mantra is: ‘Do or Die.’ We shall either free India or die in the attempt; we shall not live to see the perpetuation of our slavery.',\n",
       " 'Every one of you should consider yourself a free man or woman and act as if you are free.',\n",
       " 'I am not going to tolerate cowardice or weakness.',\n",
       " 'A free India will be no burden on the world.',\n",
       " 'The world has a place for such a country that will be peaceful and work for the good of mankind.',\n",
       " 'Freedom is never given; it is taken.',\n",
       " 'You may have faith in me and in my truth, but even if you lose faith in me, you should not lose faith in the cause.',\n",
       " 'Come what may, we shall continue to fight nonviolently for India’s freedom.\"']"
      ]
     },
     "execution_count": 40,
     "metadata": {},
     "output_type": "execute_result"
    }
   ],
   "source": [
    "sentence"
   ]
  },
  {
   "cell_type": "code",
   "execution_count": 41,
   "id": "955306e3-06f3-499a-8cd5-3274d0878153",
   "metadata": {},
   "outputs": [],
   "source": [
    "from nltk.stem import WordNetLemmatizer"
   ]
  },
  {
   "cell_type": "code",
   "execution_count": 42,
   "id": "e0afd7bf-e6b6-470d-ad4f-53e0ed5a4295",
   "metadata": {},
   "outputs": [],
   "source": [
    "lemmar = WordNetLemmatizer()"
   ]
  },
  {
   "cell_type": "code",
   "execution_count": 43,
   "id": "22c56c01-70e6-4b3d-86f9-85a88de9a652",
   "metadata": {},
   "outputs": [
    {
     "data": {
      "text/plain": [
       "list"
      ]
     },
     "execution_count": 43,
     "metadata": {},
     "output_type": "execute_result"
    }
   ],
   "source": [
    "type(sentence)"
   ]
  },
  {
   "cell_type": "code",
   "execution_count": 44,
   "id": "aaa07005-8d8e-40bd-ab0f-697d60bc8591",
   "metadata": {},
   "outputs": [],
   "source": [
    "from nltk.corpus import stopwords"
   ]
  },
  {
   "cell_type": "code",
   "execution_count": 45,
   "id": "681e8d24-fb79-43cf-8058-68e15a993c5a",
   "metadata": {},
   "outputs": [
    {
     "name": "stderr",
     "output_type": "stream",
     "text": [
      "[nltk_data] Downloading package stopwords to\n",
      "[nltk_data]     C:\\Users\\apasi\\AppData\\Roaming\\nltk_data...\n",
      "[nltk_data]   Package stopwords is already up-to-date!\n"
     ]
    },
    {
     "data": {
      "text/plain": [
       "True"
      ]
     },
     "execution_count": 45,
     "metadata": {},
     "output_type": "execute_result"
    }
   ],
   "source": [
    "nltk.download('stopwords')"
   ]
  },
  {
   "cell_type": "code",
   "execution_count": 50,
   "id": "f9c8abcb-b038-4104-8261-c4da36e01164",
   "metadata": {},
   "outputs": [],
   "source": [
    "for i in range(len(sentence)):\n",
    "    words=nltk.word_tokenize(sentence[i])\n",
    "    words=[lemmar.lemmatize(word) for word in words if word not in set(stopwords.words('english'))]\n",
    "    sentence[i] = ' '.join(words)"
   ]
  },
  {
   "cell_type": "code",
   "execution_count": 51,
   "id": "56f613aa-7699-4b52-ad48-818c50c5b42c",
   "metadata": {},
   "outputs": [
    {
     "data": {
      "text/plain": [
       "['“ Here mantra , short one , I give .',\n",
       " 'You may imprint heart let every breath give expression .',\n",
       " 'The mantra : ‘ Do Die . ’ We shall either free India die attempt ; shall live see perpetuation slavery .',\n",
       " 'Every one consider free man woman act free .',\n",
       " 'I going tolerate cowardice weakness .',\n",
       " 'A free India burden world .',\n",
       " 'The world place country peaceful work good mankind .',\n",
       " 'Freedom never given ; taken .',\n",
       " 'You may faith truth , even lose faith , lose faith cause .',\n",
       " 'Come may , shall continue fight nonviolently India ’ freedom . ``']"
      ]
     },
     "execution_count": 51,
     "metadata": {},
     "output_type": "execute_result"
    }
   ],
   "source": [
    "sentence"
   ]
  },
  {
   "cell_type": "code",
   "execution_count": 53,
   "id": "76f8d614-b947-444a-93c2-b9d6252cdd0a",
   "metadata": {},
   "outputs": [],
   "source": [
    "sent = nltk.sent_tokenize(corpus)"
   ]
  },
  {
   "cell_type": "code",
   "execution_count": 54,
   "id": "d3aa8784-3b62-4a30-9cac-e5fa4b08b5ab",
   "metadata": {},
   "outputs": [
    {
     "data": {
      "text/plain": [
       "['\\n“Here is a mantra, a short one, that I give you.',\n",
       " 'You may imprint it on your hearts and let every breath of yours give expression to it.',\n",
       " 'The mantra is: ‘Do or Die.’ We shall either free India or die in the attempt; we shall not live to see the perpetuation of our slavery.',\n",
       " 'Every one of you should consider yourself a free man or woman and act as if you are free.',\n",
       " 'I am not going to tolerate cowardice or weakness.',\n",
       " 'A free India will be no burden on the world.',\n",
       " 'The world has a place for such a country that will be peaceful and work for the good of mankind.',\n",
       " 'Freedom is never given; it is taken.',\n",
       " 'You may have faith in me and in my truth, but even if you lose faith in me, you should not lose faith in the cause.',\n",
       " 'Come what may, we shall continue to fight nonviolently for India’s freedom.\"']"
      ]
     },
     "execution_count": 54,
     "metadata": {},
     "output_type": "execute_result"
    }
   ],
   "source": [
    "sent"
   ]
  },
  {
   "cell_type": "code",
   "execution_count": 63,
   "id": "87b40614-f4af-4b7c-bf61-4ec7765ea625",
   "metadata": {},
   "outputs": [
    {
     "name": "stderr",
     "output_type": "stream",
     "text": [
      "[nltk_data] Downloading package averaged_perceptron_tagger to\n",
      "[nltk_data]     C:\\Users\\apasi\\AppData\\Roaming\\nltk_data...\n",
      "[nltk_data]   Package averaged_perceptron_tagger is already up-to-\n",
      "[nltk_data]       date!\n"
     ]
    },
    {
     "data": {
      "text/plain": [
       "True"
      ]
     },
     "execution_count": 63,
     "metadata": {},
     "output_type": "execute_result"
    }
   ],
   "source": [
    "nltk.download('averaged_perceptron_tagger')"
   ]
  },
  {
   "cell_type": "code",
   "execution_count": 64,
   "id": "39872863-1294-44e9-8f40-166b3c0cb3ee",
   "metadata": {},
   "outputs": [
    {
     "name": "stdout",
     "output_type": "stream",
     "text": [
      "[('“', 'NN'), ('Here', 'RB'), ('mantra', 'JJ'), (',', ','), ('short', 'JJ'), ('one', 'CD'), (',', ','), ('I', 'PRP'), ('give', 'VBP'), ('.', '.')]\n",
      "[('You', 'PRP'), ('may', 'MD'), ('imprint', 'VB'), ('hearts', 'NNS'), ('let', 'VB'), ('every', 'DT'), ('breath', 'NN'), ('give', 'JJ'), ('expression', 'NN'), ('.', '.')]\n",
      "[('The', 'DT'), ('mantra', 'NN'), (':', ':'), ('‘', 'NN'), ('Do', 'NNP'), ('Die.', 'NNP'), ('’', 'VB'), ('We', 'PRP'), ('shall', 'MD'), ('either', 'RB'), ('free', 'JJ'), ('India', 'NNP'), ('die', 'NN'), ('attempt', 'NN'), (';', ':'), ('shall', 'MD'), ('live', 'VB'), ('see', 'NN'), ('perpetuation', 'NN'), ('slavery', 'NN'), ('.', '.')]\n",
      "[('Every', 'DT'), ('one', 'CD'), ('consider', 'JJR'), ('free', 'JJ'), ('man', 'NN'), ('woman', 'NN'), ('act', 'NN'), ('free', 'JJ'), ('.', '.')]\n",
      "[('I', 'PRP'), ('going', 'VBG'), ('tolerate', 'JJ'), ('cowardice', 'NN'), ('weakness', 'NN'), ('.', '.')]\n",
      "[('A', 'DT'), ('free', 'JJ'), ('India', 'NNP'), ('burden', 'NN'), ('world', 'NN'), ('.', '.')]\n",
      "[('The', 'DT'), ('world', 'NN'), ('place', 'NN'), ('country', 'NN'), ('peaceful', 'JJ'), ('work', 'NN'), ('good', 'JJ'), ('mankind', 'NN'), ('.', '.')]\n",
      "[('Freedom', 'NN'), ('never', 'RB'), ('given', 'VBN'), (';', ':'), ('taken', 'VBN'), ('.', '.')]\n",
      "[('You', 'PRP'), ('may', 'MD'), ('faith', 'VB'), ('truth', 'NN'), (',', ','), ('even', 'RB'), ('lose', 'VB'), ('faith', 'NN'), (',', ','), ('lose', 'VB'), ('faith', 'NN'), ('cause', 'NN'), ('.', '.')]\n",
      "[('Come', 'NNP'), ('may', 'MD'), (',', ','), ('shall', 'MD'), ('continue', 'VB'), ('fight', 'RB'), ('nonviolently', 'RB'), ('India', 'NNP'), ('’', 'NNP'), ('freedom', 'NN'), ('.', '.'), (\"''\", \"''\")]\n"
     ]
    }
   ],
   "source": [
    "for i in range(len(sent)):\n",
    "    words = nltk.word_tokenize(sent[i])\n",
    "    words = [word for word in words if word not in set(stopwords.words(\"english\"))]\n",
    "    pos_tag = nltk.pos_tag(words)\n",
    "    print(pos_tag)"
   ]
  },
  {
   "cell_type": "code",
   "execution_count": 66,
   "id": "c0f76c5e-7825-4704-93dd-2165b293c1f9",
   "metadata": {},
   "outputs": [
    {
     "name": "stdout",
     "output_type": "stream",
     "text": [
      "[('Taj', 'NNP'), ('Mahal', 'NNP'), ('is', 'VBZ'), ('a', 'DT'), ('Beautiful', 'JJ'), ('Moument', 'NN')]\n"
     ]
    }
   ],
   "source": [
    "print(nltk.pos_tag(\"Taj Mahal is a Beautiful Moument\".split()))"
   ]
  },
  {
   "cell_type": "code",
   "execution_count": 68,
   "id": "c34cafe2-8aff-419b-8923-f1679c716f21",
   "metadata": {},
   "outputs": [],
   "source": [
    "text = \"Barack Obama was born in Hawaii in 1850 and served as the President of the United States. His salary was 1 millon dollar\""
   ]
  },
  {
   "cell_type": "code",
   "execution_count": 69,
   "id": "65d4b27b-f187-4ece-8ff3-43750a70ec43",
   "metadata": {},
   "outputs": [],
   "source": [
    "element = nltk.word_tokenize(text)"
   ]
  },
  {
   "cell_type": "code",
   "execution_count": 72,
   "id": "6a178c32-89cf-4e0a-adbe-c4afee714243",
   "metadata": {},
   "outputs": [
    {
     "name": "stdout",
     "output_type": "stream",
     "text": [
      "[('Barack', 'NNP'), ('Obama', 'NNP'), ('was', 'VBD'), ('born', 'VBN'), ('in', 'IN'), ('Hawaii', 'NNP'), ('in', 'IN'), ('1850', 'CD'), ('and', 'CC'), ('served', 'VBD'), ('as', 'IN'), ('the', 'DT'), ('President', 'NNP'), ('of', 'IN'), ('the', 'DT'), ('United', 'NNP'), ('States', 'NNPS'), ('.', '.'), ('His', 'PRP$'), ('salary', 'NN'), ('was', 'VBD'), ('1', 'CD'), ('millon', 'NN'), ('dollar', 'NN')]\n"
     ]
    }
   ],
   "source": [
    "tag_elements = nltk.pos_tag(element)\n",
    "print(tag_elements)"
   ]
  },
  {
   "cell_type": "code",
   "execution_count": 74,
   "id": "cd233070-1868-48d2-ac92-8473238c3ff3",
   "metadata": {},
   "outputs": [
    {
     "name": "stderr",
     "output_type": "stream",
     "text": [
      "[nltk_data] Downloading package maxent_ne_chunker to\n",
      "[nltk_data]     C:\\Users\\apasi\\AppData\\Roaming\\nltk_data...\n",
      "[nltk_data]   Package maxent_ne_chunker is already up-to-date!\n"
     ]
    },
    {
     "data": {
      "text/plain": [
       "True"
      ]
     },
     "execution_count": 74,
     "metadata": {},
     "output_type": "execute_result"
    }
   ],
   "source": [
    "nltk.download(\"maxent_ne_chunker\")\n"
   ]
  },
  {
   "cell_type": "code",
   "execution_count": 76,
   "id": "ef522877-6c94-4c3f-8a9d-a0e3d682dd35",
   "metadata": {},
   "outputs": [
    {
     "name": "stderr",
     "output_type": "stream",
     "text": [
      "[nltk_data] Downloading package words to\n",
      "[nltk_data]     C:\\Users\\apasi\\AppData\\Roaming\\nltk_data...\n",
      "[nltk_data]   Package words is already up-to-date!\n"
     ]
    },
    {
     "data": {
      "text/plain": [
       "True"
      ]
     },
     "execution_count": 76,
     "metadata": {},
     "output_type": "execute_result"
    }
   ],
   "source": [
    "nltk.download(\"words\")"
   ]
  },
  {
   "cell_type": "code",
   "execution_count": 1,
   "id": "2fb683cc-a2de-4293-bc78-7c4d48a7a089",
   "metadata": {},
   "outputs": [
    {
     "ename": "NameError",
     "evalue": "name 'nltk' is not defined",
     "output_type": "error",
     "traceback": [
      "\u001b[1;31m---------------------------------------------------------------------------\u001b[0m",
      "\u001b[1;31mNameError\u001b[0m                                 Traceback (most recent call last)",
      "Cell \u001b[1;32mIn[1], line 1\u001b[0m\n\u001b[1;32m----> 1\u001b[0m nltk\u001b[38;5;241m.\u001b[39mne_chunk(tag_elements)\u001b[38;5;241m.\u001b[39mdraw\n",
      "\u001b[1;31mNameError\u001b[0m: name 'nltk' is not defined"
     ]
    }
   ],
   "source": [
    "nltk.ne_chunk(tag_elements).draw"
   ]
  },
  {
   "cell_type": "code",
   "execution_count": null,
   "id": "1690606f-b254-45dd-99aa-a9edb621af2b",
   "metadata": {},
   "outputs": [],
   "source": []
  }
 ],
 "metadata": {
  "kernelspec": {
   "display_name": "Python 3 (ipykernel)",
   "language": "python",
   "name": "python3"
  },
  "language_info": {
   "codemirror_mode": {
    "name": "ipython",
    "version": 3
   },
   "file_extension": ".py",
   "mimetype": "text/x-python",
   "name": "python",
   "nbconvert_exporter": "python",
   "pygments_lexer": "ipython3",
   "version": "3.11.7"
  }
 },
 "nbformat": 4,
 "nbformat_minor": 5
}
